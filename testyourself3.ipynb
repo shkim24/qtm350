{
  "cells": [
    {
      "cell_type": "code",
      "source": [
        "! wget http://archive.ics.uci.edu/ml/machine-learning-databases/adult/adult.data"
      ],
      "metadata": {
        "id": "d2pkzhMdaW8u",
        "outputId": "650cc8a7-e999-4b11-919c-a4e8bd2ebf42",
        "colab": {
          "base_uri": "https://localhost:8080/"
        }
      },
      "execution_count": null,
      "outputs": [
        {
          "output_type": "stream",
          "name": "stdout",
          "text": [
            "--2022-09-27 01:00:20--  http://archive.ics.uci.edu/ml/machine-learning-databases/adult/adult.data\n",
            "Resolving archive.ics.uci.edu (archive.ics.uci.edu)... 128.195.10.252\n",
            "Connecting to archive.ics.uci.edu (archive.ics.uci.edu)|128.195.10.252|:80... connected.\n",
            "HTTP request sent, awaiting response... 200 OK\n",
            "Length: 3974305 (3.8M) [application/x-httpd-php]\n",
            "Saving to: ‘adult.data’\n",
            "\n",
            "adult.data          100%[===================>]   3.79M  7.26MB/s    in 0.5s    \n",
            "\n",
            "2022-09-27 01:00:21 (7.26 MB/s) - ‘adult.data’ saved [3974305/3974305]\n",
            "\n"
          ]
        }
      ]
    },
    {
      "cell_type": "code",
      "source": [
        "! wc -l adult.data"
      ],
      "metadata": {
        "id": "r0YpyYMYblZg",
        "outputId": "f0e5e9a2-b72c-40dc-f4a0-97eda62182e2",
        "colab": {
          "base_uri": "https://localhost:8080/"
        }
      },
      "execution_count": null,
      "outputs": [
        {
          "output_type": "stream",
          "name": "stdout",
          "text": [
            "32562 adult.data\n"
          ]
        }
      ]
    },
    {
      "cell_type": "code",
      "source": [
        "! wc -w adult.data"
      ],
      "metadata": {
        "id": "SPEPDMZsbmeb",
        "outputId": "e857618c-e65d-4900-fce2-083e8c57c829",
        "colab": {
          "base_uri": "https://localhost:8080/"
        }
      },
      "execution_count": null,
      "outputs": [
        {
          "output_type": "stream",
          "name": "stdout",
          "text": [
            "488415 adult.data\n"
          ]
        }
      ]
    },
    {
      "cell_type": "code",
      "source": [
        "! head -n 2 adult.data"
      ],
      "metadata": {
        "id": "C-AU4NF2bqtG",
        "outputId": "77b8d826-b059-4dfa-d026-fb868ae36756",
        "colab": {
          "base_uri": "https://localhost:8080/"
        }
      },
      "execution_count": null,
      "outputs": [
        {
          "output_type": "stream",
          "name": "stdout",
          "text": [
            "39, State-gov, 77516, Bachelors, 13, Never-married, Adm-clerical, Not-in-family, White, Male, 2174, 0, 40, United-States, <=50K\n",
            "50, Self-emp-not-inc, 83311, Bachelors, 13, Married-civ-spouse, Exec-managerial, Husband, White, Male, 0, 0, 13, United-States, <=50K\n"
          ]
        }
      ]
    },
    {
      "cell_type": "code",
      "source": [
        "! echo \"age,workclass,fnlwgt,education,education-num,marital-status,occupation,relationship,race,sex,capital-gain,capital-loss,native-country,class\" > header.csv"
      ],
      "metadata": {
        "id": "k_fYikvDbs6r"
      },
      "execution_count": null,
      "outputs": []
    },
    {
      "cell_type": "code",
      "source": [
        "%%bash\n",
        "cat header.csv adult.data > adult.csv"
      ],
      "metadata": {
        "id": "qqJKlQd2bvsD"
      },
      "execution_count": null,
      "outputs": []
    },
    {
      "cell_type": "code",
      "source": [
        "%%bash\n",
        "head -n 2 adult.csv"
      ],
      "metadata": {
        "id": "sFikFr2YbyQm",
        "outputId": "638a5323-c6cb-4bc9-bb5c-45ee846fc506",
        "colab": {
          "base_uri": "https://localhost:8080/"
        }
      },
      "execution_count": null,
      "outputs": [
        {
          "output_type": "stream",
          "name": "stdout",
          "text": [
            "age,workclass,fnlwgt,education,education-num,marital-status,occupation,relationship,race,sex,capital-gain,capital-loss,native-country,class\n",
            "39, State-gov, 77516, Bachelors, 13, Never-married, Adm-clerical, Not-in-family, White, Male, 2174, 0, 40, United-States, <=50K\n"
          ]
        }
      ]
    },
    {
      "cell_type": "code",
      "source": [
        "%%bash\n",
        "grep \", ?,\" adult.csv | wc -l"
      ],
      "metadata": {
        "id": "MIxOCvT8b0a_",
        "outputId": "5bb8b944-34e0-47a6-b399-216f92bf6b6c",
        "colab": {
          "base_uri": "https://localhost:8080/"
        }
      },
      "execution_count": null,
      "outputs": [
        {
          "output_type": "stream",
          "name": "stdout",
          "text": [
            "2399\n"
          ]
        }
      ]
    },
    {
      "cell_type": "code",
      "source": [
        "%%bash\n",
        "sed \"s/, ?,/,,/g\" adult.csv >  newadult.csv"
      ],
      "metadata": {
        "id": "B8N-Vdy1b2Vm"
      },
      "execution_count": null,
      "outputs": []
    },
    {
      "cell_type": "code",
      "source": [
        "%%bash\n",
        "head -n 120 adult.csv | tail -n 20 > adult_sample.csv"
      ],
      "metadata": {
        "id": "hgDPtfDub4sN"
      },
      "execution_count": null,
      "outputs": []
    },
    {
      "cell_type": "code",
      "source": [
        "%%bash\n",
        "cat header.csv adult_sample.csv  > adult_sample_with_header.csv"
      ],
      "metadata": {
        "id": "k56GG4dqb9kE"
      },
      "execution_count": null,
      "outputs": []
    },
    {
      "cell_type": "code",
      "source": [
        "%%bash\n",
        "head -n 2 adult_sample_with_header.csv"
      ],
      "metadata": {
        "id": "2nbcTH8XcIYB",
        "outputId": "215617d0-d26b-44e2-f52e-ba27d5aac8ea",
        "colab": {
          "base_uri": "https://localhost:8080/"
        }
      },
      "execution_count": null,
      "outputs": [
        {
          "output_type": "stream",
          "name": "stdout",
          "text": [
            "age,workclass,fnlwgt,education,education-num,marital-status,occupation,relationship,race,sex,capital-gain,capital-loss,native-country,class\n",
            "32, Federal-gov, 249409, HS-grad, 9, Never-married, Other-service, Own-child, Black, Male, 0, 0, 40, United-States, <=50K\n"
          ]
        }
      ]
    },
    {
      "cell_type": "code",
      "source": [
        "!cat adult_sample_with_header.csv"
      ],
      "metadata": {
        "id": "WBAAP4IIcLK_",
        "outputId": "6c09c080-3862-459a-f724-1dcc9df0b0f4",
        "colab": {
          "base_uri": "https://localhost:8080/"
        }
      },
      "execution_count": null,
      "outputs": [
        {
          "output_type": "stream",
          "name": "stdout",
          "text": [
            "age,workclass,fnlwgt,education,education-num,marital-status,occupation,relationship,race,sex,capital-gain,capital-loss,native-country,class\n",
            "32, Federal-gov, 249409, HS-grad, 9, Never-married, Other-service, Own-child, Black, Male, 0, 0, 40, United-States, <=50K\n",
            "76, Private, 124191, Masters, 14, Married-civ-spouse, Exec-managerial, Husband, White, Male, 0, 0, 40, United-States, >50K\n",
            "44, Private, 198282, Bachelors, 13, Married-civ-spouse, Exec-managerial, Husband, White, Male, 15024, 0, 60, United-States, >50K\n",
            "47, Self-emp-not-inc, 149116, Masters, 14, Never-married, Prof-specialty, Not-in-family, White, Female, 0, 0, 50, United-States, <=50K\n",
            "20, Private, 188300, Some-college, 10, Never-married, Tech-support, Own-child, White, Female, 0, 0, 40, United-States, <=50K\n",
            "29, Private, 103432, HS-grad, 9, Never-married, Craft-repair, Not-in-family, White, Male, 0, 0, 40, United-States, <=50K\n",
            "32, Self-emp-inc, 317660, HS-grad, 9, Married-civ-spouse, Craft-repair, Husband, White, Male, 7688, 0, 40, United-States, >50K\n",
            "17, ?, 304873, 10th, 6, Never-married, ?, Own-child, White, Female, 34095, 0, 32, United-States, <=50K\n",
            "30, Private, 194901, 11th, 7, Never-married, Handlers-cleaners, Own-child, White, Male, 0, 0, 40, United-States, <=50K\n",
            "31, Local-gov, 189265, HS-grad, 9, Never-married, Adm-clerical, Not-in-family, White, Female, 0, 0, 40, United-States, <=50K\n",
            "42, Private, 124692, HS-grad, 9, Married-civ-spouse, Handlers-cleaners, Husband, White, Male, 0, 0, 40, United-States, <=50K\n",
            "24, Private, 432376, Bachelors, 13, Never-married, Sales, Other-relative, White, Male, 0, 0, 40, United-States, <=50K\n",
            "38, Private, 65324, Prof-school, 15, Married-civ-spouse, Prof-specialty, Husband, White, Male, 0, 0, 40, United-States, >50K\n",
            "56, Self-emp-not-inc, 335605, HS-grad, 9, Married-civ-spouse, Other-service, Husband, White, Male, 0, 1887, 50, Canada, >50K\n",
            "28, Private, 377869, Some-college, 10, Married-civ-spouse, Sales, Wife, White, Female, 4064, 0, 25, United-States, <=50K\n",
            "36, Private, 102864, HS-grad, 9, Never-married, Machine-op-inspct, Own-child, White, Female, 0, 0, 40, United-States, <=50K\n",
            "53, Private, 95647, 9th, 5, Married-civ-spouse, Handlers-cleaners, Husband, White, Male, 0, 0, 50, United-States, <=50K\n",
            "56, Self-emp-inc, 303090, Some-college, 10, Married-civ-spouse, Sales, Husband, White, Male, 0, 0, 50, United-States, <=50K\n",
            "49, Local-gov, 197371, Assoc-voc, 11, Married-civ-spouse, Craft-repair, Husband, Black, Male, 0, 0, 40, United-States, >50K\n",
            "55, Private, 247552, Some-college, 10, Married-civ-spouse, Sales, Husband, White, Male, 0, 0, 56, United-States, <=50K\n"
          ]
        }
      ]
    },
    {
      "cell_type": "code",
      "source": [],
      "metadata": {
        "id": "L8JHFwKMyFxR"
      },
      "execution_count": null,
      "outputs": []
    },
    {
      "cell_type": "code",
      "source": [],
      "metadata": {
        "id": "_U0aylNzyF3G"
      },
      "execution_count": null,
      "outputs": []
    }
  ],
  "metadata": {
    "colab": {
      "collapsed_sections": [],
      "provenance": []
    },
    "kernelspec": {
      "display_name": "Python 3",
      "name": "python3"
    }
  },
  "nbformat": 4,
  "nbformat_minor": 0
}